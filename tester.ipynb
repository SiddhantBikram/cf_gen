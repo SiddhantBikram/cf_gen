{
 "cells": [
  {
   "cell_type": "code",
   "execution_count": 1,
   "metadata": {},
   "outputs": [],
   "source": [
    "import yaml\n",
    "with open('yaml.yaml', 'r') as f:\n",
    "        config = yaml.load(f, Loader=yaml.FullLoader)"
   ]
  },
  {
   "cell_type": "code",
   "execution_count": 2,
   "metadata": {},
   "outputs": [
    {
     "data": {
      "text/plain": [
       "{'test_dataset': {'dataset': {'name': 'paired-image-folders',\n",
       "   'args': {'root_path_1': './load/place_test',\n",
       "    'root_path_2': './load/place_test_mask',\n",
       "    'split_file': None,\n",
       "    'split_key': 'none'}},\n",
       "  'wrapper': {'name': 'sr-implicit-paired',\n",
       "   'args': {'sample_q': 1024, 'inp_size': 512}},\n",
       "  'batch_size': 16},\n",
       " 'data_norm': {'inp': {'sub': [0.5], 'div': [0.5]},\n",
       "  'gt': {'sub': [0.5], 'div': [0.5]},\n",
       "  'gt_rgb': {'sub': [0.5], 'div': [0.5]}},\n",
       " 'model': {'name': 'gan',\n",
       "  'args': {'encoder_spec': {'name': 'coordfill',\n",
       "    'multi_res_training': True,\n",
       "    'mask_prediction': True,\n",
       "    'attffc': True,\n",
       "    'scale_injection': True,\n",
       "    'args': {'no_upsampling': True}}}}}"
      ]
     },
     "execution_count": 2,
     "metadata": {},
     "output_type": "execute_result"
    }
   ],
   "source": [
    "config"
   ]
  },
  {
   "cell_type": "code",
   "execution_count": null,
   "metadata": {},
   "outputs": [],
   "source": []
  }
 ],
 "metadata": {
  "kernelspec": {
   "display_name": "base",
   "language": "python",
   "name": "python3"
  },
  "language_info": {
   "codemirror_mode": {
    "name": "ipython",
    "version": 3
   },
   "file_extension": ".py",
   "mimetype": "text/x-python",
   "name": "python",
   "nbconvert_exporter": "python",
   "pygments_lexer": "ipython3",
   "version": "3.9.13"
  },
  "orig_nbformat": 4
 },
 "nbformat": 4,
 "nbformat_minor": 2
}
