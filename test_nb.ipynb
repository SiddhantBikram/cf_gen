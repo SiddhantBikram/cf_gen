{
 "cells": [
  {
   "cell_type": "code",
   "execution_count": null,
   "metadata": {},
   "outputs": [],
   "source": [
    "from pfd_loader import *\n",
    "import os \n",
    "from PIL import Image\n",
    "import sys\n",
    "\n",
    "root_dir = 'D:/Research/Counterfactual/Scripts/'\n",
    "sys.path.append(os.path.join(root_dir,'cf_gen','pfd'))\n",
    "\n",
    "#Input Image = Class\n",
    "#Control Image = Second most confident class among all samples\n",
    "\n",
    "pfd_inference = prompt_free_diffusion(\n",
    "    fp16=True, tag_ctx = 'SeeCoder', tag_diffuser = 'OpenJouney-v4', tag_ctl = 'canny_v11p')\n",
    "\n",
    "cache_examples = True\n",
    "image_dim = 256\n",
    "\n",
    "image_input = Image.open(\"D:/Research/Counterfactual/Scripts/IN9sub/train/00_dog/n02085620_7.JPEG\")\n",
    "control_image = Image.open(\"D:/Research/Counterfactual/Scripts/objects/train/00_dog/n02085620_1321.png\")\n",
    "\n",
    "out_image = pfd_inference.action_inference(im = image_input,\n",
    "                                           imctl = control_image,\n",
    "                                           ctl_method = 'canny',\n",
    "                                            do_preprocess = True, \n",
    "                                            h = image_dim, \n",
    "                                            w = image_dim,\n",
    "                                            ugscale = 0,\n",
    "                                            seed = 42, \n",
    "                                            tag_ctx = 'SeeCoder',\n",
    "                                            tag_diffuser = 'OpenJouney-v4',\n",
    "                                            tag_ctl = 'canny_v11p')"
   ]
  },
  {
   "cell_type": "code",
   "execution_count": null,
   "metadata": {},
   "outputs": [],
   "source": [
    "print(out_image)"
   ]
  },
  {
   "cell_type": "code",
   "execution_count": null,
   "metadata": {},
   "outputs": [],
   "source": []
  }
 ],
 "metadata": {
  "kernelspec": {
   "display_name": "base",
   "language": "python",
   "name": "python3"
  },
  "language_info": {
   "name": "python",
   "version": "3.9.13"
  },
  "orig_nbformat": 4
 },
 "nbformat": 4,
 "nbformat_minor": 2
}
